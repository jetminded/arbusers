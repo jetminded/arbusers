{
 "cells": [
  {
   "cell_type": "code",
   "execution_count": 4,
   "id": "156df409",
   "metadata": {},
   "outputs": [],
   "source": [
    "import numpy as np\n",
    "import pandas as pd\n",
    "import get_data\n",
    "from scipy.spatial.distance import cdist"
   ]
  },
  {
   "cell_type": "code",
   "execution_count": null,
   "id": "8d008399",
   "metadata": {},
   "outputs": [],
   "source": []
  },
  {
   "cell_type": "code",
   "execution_count": 38,
   "id": "7b7b1844",
   "metadata": {},
   "outputs": [],
   "source": [
    "def get_top_vineyard(desired, lands, k=3):\n",
    "    desired = np.array([np.array(desired, dtype=float)])\n",
    "    lands = np.array(lands, dtype=float)\n",
    "    distances = cdist(desired, lands)[0]\n",
    "    closest_lands = lands[np.argpartition(distances, k)[:k]]\n",
    "    distances = cdist(desired, closest_lands)[0]\n",
    "    return np.argsort(distances)"
   ]
  },
  {
   "cell_type": "code",
   "execution_count": 39,
   "id": "1a545a8c",
   "metadata": {},
   "outputs": [],
   "source": [
    "vine = pd.read_csv(\"data.csv\")"
   ]
  },
  {
   "cell_type": "code",
   "execution_count": 40,
   "id": "4cd4362d",
   "metadata": {},
   "outputs": [],
   "source": [
    "lands = pd.read_csv(\"lands.csv\")"
   ]
  },
  {
   "cell_type": "code",
   "execution_count": 41,
   "id": "9de60d3a",
   "metadata": {},
   "outputs": [
    {
     "data": {
      "text/plain": [
       "array([1.9700000e+02, 2.4450000e+03, 0.0000000e+00, 7.0000000e+00,\n",
       "       3.6000000e+02, 1.7000000e+01, 1.4320962e+00, 3.0000000e+00,\n",
       "       1.1100000e+02, 1.0000000e+00, 0.0000000e+00])"
      ]
     },
     "execution_count": 41,
     "metadata": {},
     "output_type": "execute_result"
    }
   ],
   "source": [
    "np.array(vine.iloc[0], dtype=float)"
   ]
  },
  {
   "cell_type": "code",
   "execution_count": 42,
   "id": "9fab479d",
   "metadata": {},
   "outputs": [
    {
     "data": {
      "text/plain": [
       "array([1, 0, 2])"
      ]
     },
     "execution_count": 42,
     "metadata": {},
     "output_type": "execute_result"
    }
   ],
   "source": [
    "get_top_vineyard(vine.iloc[0], lands)"
   ]
  },
  {
   "cell_type": "code",
   "execution_count": null,
   "id": "385ee8ce",
   "metadata": {},
   "outputs": [],
   "source": []
  }
 ],
 "metadata": {
  "kernelspec": {
   "display_name": "Python 3 (ipykernel)",
   "language": "python",
   "name": "python3"
  },
  "language_info": {
   "codemirror_mode": {
    "name": "ipython",
    "version": 3
   },
   "file_extension": ".py",
   "mimetype": "text/x-python",
   "name": "python",
   "nbconvert_exporter": "python",
   "pygments_lexer": "ipython3",
   "version": "3.9.7"
  }
 },
 "nbformat": 4,
 "nbformat_minor": 5
}
