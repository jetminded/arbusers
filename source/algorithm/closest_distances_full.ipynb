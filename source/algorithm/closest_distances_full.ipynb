{
 "cells": [
  {
   "cell_type": "code",
   "execution_count": 66,
   "id": "156df409",
   "metadata": {
    "id": "156df409"
   },
   "outputs": [],
   "source": [
    "import numpy as np\n",
    "import pandas as pd\n",
    "import get_data\n",
    "from scipy.spatial.distance import cdist"
   ]
  },
  {
   "cell_type": "code",
   "execution_count": null,
   "id": "8d008399",
   "metadata": {
    "id": "8d008399"
   },
   "outputs": [],
   "source": []
  },
  {
   "cell_type": "code",
   "execution_count": 110,
   "id": "7b7b1844",
   "metadata": {
    "id": "7b7b1844"
   },
   "outputs": [],
   "source": [
    "def get_top_vineyard(desired, lands, k=3):\n",
    "    desired = desired.drop([\"x\", \"y\"], axis=0)\n",
    "    lands = lands.drop([\"x\", \"y\"], axis=1)\n",
    "    desired = np.array([np.array(desired, dtype=float)])\n",
    "    lands = np.array(lands, dtype=float)\n",
    "    distances = cdist(desired, lands)[0]\n",
    "    args = np.argpartition(distances, k)[:k]\n",
    "    closest_lands = lands[args]\n",
    "    distances = cdist(desired, closest_lands)[0]\n",
    "    return args[np.argsort(distances)]"
   ]
  },
  {
   "cell_type": "code",
   "execution_count": 68,
   "id": "1a545a8c",
   "metadata": {
    "id": "1a545a8c"
   },
   "outputs": [],
   "source": [
    "vine = pd.read_csv(\"data.csv\")"
   ]
  },
  {
   "cell_type": "code",
   "execution_count": 69,
   "id": "4cd4362d",
   "metadata": {
    "id": "4cd4362d"
   },
   "outputs": [],
   "source": [
    "lands = pd.read_csv(\"lands.csv\")"
   ]
  },
  {
   "cell_type": "code",
   "execution_count": 70,
   "id": "gHU5fgT2cjNZ",
   "metadata": {
    "colab": {
     "base_uri": "https://localhost:8080/"
    },
    "id": "gHU5fgT2cjNZ",
    "outputId": "3f456cdb-8b5c-47e7-f8b8-7e8b2cc8c9f9"
   },
   "outputs": [
    {
     "data": {
      "text/plain": [
       "y                          403\n",
       "x                         1721\n",
       "admin                     True\n",
       "landcover                   11\n",
       "relief_aspect            360.0\n",
       "relief_height                2\n",
       "relief_slope          0.286477\n",
       "relief_soiltexture           6\n",
       "sunny_days                 124\n",
       "vineyard                 False\n",
       "water_seasonality            0\n",
       "Name: 0, dtype: object"
      ]
     },
     "execution_count": 70,
     "metadata": {},
     "output_type": "execute_result"
    }
   ],
   "source": [
    "lands.iloc[0]"
   ]
  },
  {
   "cell_type": "code",
   "execution_count": 71,
   "id": "9de60d3a",
   "metadata": {
    "colab": {
     "base_uri": "https://localhost:8080/"
    },
    "id": "9de60d3a",
    "outputId": "18845931-c129-4ef1-cdc6-4aa3181143b7"
   },
   "outputs": [
    {
     "data": {
      "text/plain": [
       "array([1.9700000e+02, 2.4450000e+03, 0.0000000e+00, 7.0000000e+00,\n",
       "       3.6000000e+02, 1.7000000e+01, 1.4320962e+00, 3.0000000e+00,\n",
       "       1.1100000e+02, 1.0000000e+00, 0.0000000e+00])"
      ]
     },
     "execution_count": 71,
     "metadata": {},
     "output_type": "execute_result"
    }
   ],
   "source": [
    "np.array(vine.iloc[0], dtype=float)"
   ]
  },
  {
   "cell_type": "code",
   "execution_count": 72,
   "id": "9fab479d",
   "metadata": {
    "colab": {
     "base_uri": "https://localhost:8080/"
    },
    "id": "9fab479d",
    "outputId": "eba37bc4-f2a1-44bc-a313-32b41631ed70"
   },
   "outputs": [
    {
     "data": {
      "text/plain": [
       "array([1, 0, 2])"
      ]
     },
     "execution_count": 72,
     "metadata": {},
     "output_type": "execute_result"
    }
   ],
   "source": [
    "get_top_vineyard(vine.iloc[0], lands)"
   ]
  },
  {
   "cell_type": "code",
   "execution_count": 73,
   "id": "c74f2a54",
   "metadata": {},
   "outputs": [],
   "source": [
    "areas = pd.read_csv(\"land_area.csv\")"
   ]
  },
  {
   "cell_type": "code",
   "execution_count": 74,
   "id": "2171674c",
   "metadata": {},
   "outputs": [
    {
     "data": {
      "text/html": [
       "<div>\n",
       "<style scoped>\n",
       "    .dataframe tbody tr th:only-of-type {\n",
       "        vertical-align: middle;\n",
       "    }\n",
       "\n",
       "    .dataframe tbody tr th {\n",
       "        vertical-align: top;\n",
       "    }\n",
       "\n",
       "    .dataframe thead th {\n",
       "        text-align: right;\n",
       "    }\n",
       "</style>\n",
       "<table border=\"1\" class=\"dataframe\">\n",
       "  <thead>\n",
       "    <tr style=\"text-align: right;\">\n",
       "      <th></th>\n",
       "      <th>x</th>\n",
       "      <th>y</th>\n",
       "      <th>x_left</th>\n",
       "      <th>x_right</th>\n",
       "      <th>y_top</th>\n",
       "      <th>y_bottom</th>\n",
       "    </tr>\n",
       "  </thead>\n",
       "  <tbody>\n",
       "    <tr>\n",
       "      <th>0</th>\n",
       "      <td>1721</td>\n",
       "      <td>403</td>\n",
       "      <td>1719</td>\n",
       "      <td>1723</td>\n",
       "      <td>400</td>\n",
       "      <td>407</td>\n",
       "    </tr>\n",
       "    <tr>\n",
       "      <th>1</th>\n",
       "      <td>1726</td>\n",
       "      <td>403</td>\n",
       "      <td>1724</td>\n",
       "      <td>1729</td>\n",
       "      <td>400</td>\n",
       "      <td>407</td>\n",
       "    </tr>\n",
       "    <tr>\n",
       "      <th>2</th>\n",
       "      <td>1732</td>\n",
       "      <td>403</td>\n",
       "      <td>1730</td>\n",
       "      <td>1734</td>\n",
       "      <td>400</td>\n",
       "      <td>407</td>\n",
       "    </tr>\n",
       "    <tr>\n",
       "      <th>3</th>\n",
       "      <td>1737</td>\n",
       "      <td>403</td>\n",
       "      <td>1735</td>\n",
       "      <td>1739</td>\n",
       "      <td>400</td>\n",
       "      <td>407</td>\n",
       "    </tr>\n",
       "    <tr>\n",
       "      <th>4</th>\n",
       "      <td>1742</td>\n",
       "      <td>403</td>\n",
       "      <td>1740</td>\n",
       "      <td>1744</td>\n",
       "      <td>400</td>\n",
       "      <td>407</td>\n",
       "    </tr>\n",
       "  </tbody>\n",
       "</table>\n",
       "</div>"
      ],
      "text/plain": [
       "      x    y  x_left  x_right  y_top  y_bottom\n",
       "0  1721  403    1719     1723    400       407\n",
       "1  1726  403    1724     1729    400       407\n",
       "2  1732  403    1730     1734    400       407\n",
       "3  1737  403    1735     1739    400       407\n",
       "4  1742  403    1740     1744    400       407"
      ]
     },
     "execution_count": 74,
     "metadata": {},
     "output_type": "execute_result"
    }
   ],
   "source": [
    "areas.head()"
   ]
  },
  {
   "cell_type": "code",
   "execution_count": 100,
   "id": "385ee8ce",
   "metadata": {
    "id": "385ee8ce"
   },
   "outputs": [],
   "source": [
    "def find_closest(wineyards_y, wineyards_x, k):\n",
    "    wineyards = pd.read_csv(\"data.csv\")\n",
    "    lands = pd.read_csv(\"lands.csv\")\n",
    "    desired_wineyards = pd.DataFrame(columns=lands.columns)\n",
    "    for i in range(len(wineyards_x)):\n",
    "        s = wineyards[(wineyards.x == wineyards_x[i]) & (wineyards.y == wineyards_y[i])]\n",
    "        desired_wineyards = desired_wineyards.append(s)\n",
    "    des = desired_wineyards.mean()\n",
    "    # print(des)\n",
    "    needed_indices = get_top_vineyard(des, lands, k)\n",
    "    areas = pd.read_csv(\"land_area.csv\")\n",
    "    ans = {\n",
    "        \"x_center\": [],\n",
    "        \"y_center\": [],\n",
    "        \"x_left\": [],\n",
    "        \"x_right\": [],\n",
    "        \"y_top\": [],\n",
    "        \"y_bottom\": [],\n",
    "    }\n",
    "    for i in range(k):\n",
    "        area = areas[(areas.x == lands.iloc[needed_indices[i]].x) & (areas.y == lands.iloc[needed_indices[i]].y)]\n",
    "        ans[\"x_center\"].append(int(area.x))\n",
    "        ans[\"y_center\"].append(int(area.y))\n",
    "        ans[\"x_left\"].append(int(area.x_left))\n",
    "        ans[\"x_right\"].append(int(area.x_right))\n",
    "        ans[\"y_top\"].append(int(area.y_top))\n",
    "        ans[\"y_bottom\"].append(int(area.y_bottom))\n",
    "    return ans"
   ]
  },
  {
   "cell_type": "code",
   "execution_count": 111,
   "id": "f7c03f27",
   "metadata": {},
   "outputs": [
    {
     "data": {
      "text/plain": [
       "{'x_center': [743, 829, 765, 935, 822],\n",
       " 'y_center': [2034, 2155, 2040, 2188, 2168],\n",
       " 'x_left': [740, 826, 762, 932, 819],\n",
       " 'x_right': [746, 832, 768, 938, 825],\n",
       " 'y_top': [2032, 2152, 2038, 2186, 2166],\n",
       " 'y_bottom': [2037, 2158, 2043, 2191, 2171]}"
      ]
     },
     "execution_count": 111,
     "metadata": {},
     "output_type": "execute_result"
    }
   ],
   "source": [
    "find_closest([625], [2310], 5)"
   ]
  },
  {
   "cell_type": "code",
   "execution_count": 85,
   "id": "ee2c9048",
   "metadata": {},
   "outputs": [],
   "source": [
    "data = pd.read_csv(\"data.csv\")"
   ]
  },
  {
   "cell_type": "code",
   "execution_count": 105,
   "id": "ca585705",
   "metadata": {},
   "outputs": [
    {
     "name": "stdout",
     "output_type": "stream",
     "text": [
      "[nan nan nan ... nan nan nan]\n"
     ]
    },
    {
     "data": {
      "text/plain": [
       "{'x_center': [1721, 1726, 1732, 1737, 1742],\n",
       " 'y_center': [403, 403, 403, 403, 403],\n",
       " 'x_left': [1719, 1724, 1730, 1735, 1740],\n",
       " 'x_right': [1723, 1729, 1734, 1739, 1744],\n",
       " 'y_top': [400, 400, 400, 400, 400],\n",
       " 'y_bottom': [407, 407, 407, 407, 407]}"
      ]
     },
     "execution_count": 105,
     "metadata": {},
     "output_type": "execute_result"
    }
   ],
   "source": [
    "find_closest([1200], [2310], 5)"
   ]
  },
  {
   "cell_type": "code",
   "execution_count": 112,
   "id": "fa9d3314",
   "metadata": {},
   "outputs": [
    {
     "data": {
      "text/plain": [
       "{'x_center': [675, 720, 1296, 1297, 1278],\n",
       " 'y_center': [1986, 2107, 522, 544, 486],\n",
       " 'x_left': [672, 718, 1294, 1295, 1276],\n",
       " 'x_right': [678, 723, 1299, 1300, 1281],\n",
       " 'y_top': [1983, 2105, 519, 541, 483],\n",
       " 'y_bottom': [1988, 2110, 525, 547, 489]}"
      ]
     },
     "execution_count": 112,
     "metadata": {},
     "output_type": "execute_result"
    }
   ],
   "source": [
    "find_closest([567], [2244], 5)"
   ]
  },
  {
   "cell_type": "code",
   "execution_count": 113,
   "id": "ad449ffa",
   "metadata": {},
   "outputs": [],
   "source": [
    "data = pd.read_csv(\"lands.csv\")"
   ]
  },
  {
   "cell_type": "code",
   "execution_count": 114,
   "id": "5e2bbb5f",
   "metadata": {},
   "outputs": [
    {
     "data": {
      "text/html": [
       "<div>\n",
       "<style scoped>\n",
       "    .dataframe tbody tr th:only-of-type {\n",
       "        vertical-align: middle;\n",
       "    }\n",
       "\n",
       "    .dataframe tbody tr th {\n",
       "        vertical-align: top;\n",
       "    }\n",
       "\n",
       "    .dataframe thead th {\n",
       "        text-align: right;\n",
       "    }\n",
       "</style>\n",
       "<table border=\"1\" class=\"dataframe\">\n",
       "  <thead>\n",
       "    <tr style=\"text-align: right;\">\n",
       "      <th></th>\n",
       "      <th>y</th>\n",
       "      <th>x</th>\n",
       "      <th>admin</th>\n",
       "      <th>landcover</th>\n",
       "      <th>relief_aspect</th>\n",
       "      <th>relief_height</th>\n",
       "      <th>relief_slope</th>\n",
       "      <th>relief_soiltexture</th>\n",
       "      <th>sunny_days</th>\n",
       "      <th>vineyard</th>\n",
       "      <th>water_seasonality</th>\n",
       "    </tr>\n",
       "  </thead>\n",
       "  <tbody>\n",
       "    <tr>\n",
       "      <th>0</th>\n",
       "      <td>403</td>\n",
       "      <td>1721</td>\n",
       "      <td>True</td>\n",
       "      <td>11</td>\n",
       "      <td>360.0</td>\n",
       "      <td>2</td>\n",
       "      <td>0.286477</td>\n",
       "      <td>6</td>\n",
       "      <td>124</td>\n",
       "      <td>False</td>\n",
       "      <td>0</td>\n",
       "    </tr>\n",
       "    <tr>\n",
       "      <th>1</th>\n",
       "      <td>403</td>\n",
       "      <td>1726</td>\n",
       "      <td>True</td>\n",
       "      <td>11</td>\n",
       "      <td>270.0</td>\n",
       "      <td>2</td>\n",
       "      <td>0.286477</td>\n",
       "      <td>6</td>\n",
       "      <td>124</td>\n",
       "      <td>False</td>\n",
       "      <td>0</td>\n",
       "    </tr>\n",
       "    <tr>\n",
       "      <th>2</th>\n",
       "      <td>403</td>\n",
       "      <td>1732</td>\n",
       "      <td>True</td>\n",
       "      <td>11</td>\n",
       "      <td>-99999.0</td>\n",
       "      <td>1</td>\n",
       "      <td>0.000000</td>\n",
       "      <td>6</td>\n",
       "      <td>124</td>\n",
       "      <td>False</td>\n",
       "      <td>0</td>\n",
       "    </tr>\n",
       "    <tr>\n",
       "      <th>3</th>\n",
       "      <td>403</td>\n",
       "      <td>1737</td>\n",
       "      <td>True</td>\n",
       "      <td>11</td>\n",
       "      <td>270.0</td>\n",
       "      <td>2</td>\n",
       "      <td>0.286477</td>\n",
       "      <td>6</td>\n",
       "      <td>123</td>\n",
       "      <td>False</td>\n",
       "      <td>0</td>\n",
       "    </tr>\n",
       "    <tr>\n",
       "      <th>4</th>\n",
       "      <td>403</td>\n",
       "      <td>1742</td>\n",
       "      <td>True</td>\n",
       "      <td>11</td>\n",
       "      <td>360.0</td>\n",
       "      <td>2</td>\n",
       "      <td>0.286477</td>\n",
       "      <td>6</td>\n",
       "      <td>123</td>\n",
       "      <td>False</td>\n",
       "      <td>0</td>\n",
       "    </tr>\n",
       "  </tbody>\n",
       "</table>\n",
       "</div>"
      ],
      "text/plain": [
       "     y     x  admin  landcover  relief_aspect  relief_height  relief_slope  \\\n",
       "0  403  1721   True         11          360.0              2      0.286477   \n",
       "1  403  1726   True         11          270.0              2      0.286477   \n",
       "2  403  1732   True         11       -99999.0              1      0.000000   \n",
       "3  403  1737   True         11          270.0              2      0.286477   \n",
       "4  403  1742   True         11          360.0              2      0.286477   \n",
       "\n",
       "   relief_soiltexture  sunny_days  vineyard  water_seasonality  \n",
       "0                   6         124     False                  0  \n",
       "1                   6         124     False                  0  \n",
       "2                   6         124     False                  0  \n",
       "3                   6         123     False                  0  \n",
       "4                   6         123     False                  0  "
      ]
     },
     "execution_count": 114,
     "metadata": {},
     "output_type": "execute_result"
    }
   ],
   "source": [
    "data.head()"
   ]
  },
  {
   "cell_type": "code",
   "execution_count": 116,
   "id": "fcbf462a",
   "metadata": {},
   "outputs": [
    {
     "data": {
      "text/html": [
       "<div>\n",
       "<style scoped>\n",
       "    .dataframe tbody tr th:only-of-type {\n",
       "        vertical-align: middle;\n",
       "    }\n",
       "\n",
       "    .dataframe tbody tr th {\n",
       "        vertical-align: top;\n",
       "    }\n",
       "\n",
       "    .dataframe thead th {\n",
       "        text-align: right;\n",
       "    }\n",
       "</style>\n",
       "<table border=\"1\" class=\"dataframe\">\n",
       "  <thead>\n",
       "    <tr style=\"text-align: right;\">\n",
       "      <th></th>\n",
       "      <th>y</th>\n",
       "      <th>x</th>\n",
       "      <th>admin</th>\n",
       "      <th>landcover</th>\n",
       "      <th>relief_aspect</th>\n",
       "      <th>relief_height</th>\n",
       "      <th>relief_slope</th>\n",
       "      <th>relief_soiltexture</th>\n",
       "      <th>sunny_days</th>\n",
       "      <th>vineyard</th>\n",
       "      <th>water_seasonality</th>\n",
       "    </tr>\n",
       "  </thead>\n",
       "  <tbody>\n",
       "    <tr>\n",
       "      <th>15</th>\n",
       "      <td>403</td>\n",
       "      <td>1799</td>\n",
       "      <td>False</td>\n",
       "      <td>5</td>\n",
       "      <td>213.690060</td>\n",
       "      <td>15</td>\n",
       "      <td>1.032803</td>\n",
       "      <td>6</td>\n",
       "      <td>122</td>\n",
       "      <td>False</td>\n",
       "      <td>0</td>\n",
       "    </tr>\n",
       "    <tr>\n",
       "      <th>16</th>\n",
       "      <td>403</td>\n",
       "      <td>1804</td>\n",
       "      <td>False</td>\n",
       "      <td>5</td>\n",
       "      <td>213.690060</td>\n",
       "      <td>18</td>\n",
       "      <td>1.032803</td>\n",
       "      <td>6</td>\n",
       "      <td>121</td>\n",
       "      <td>False</td>\n",
       "      <td>0</td>\n",
       "    </tr>\n",
       "    <tr>\n",
       "      <th>17</th>\n",
       "      <td>403</td>\n",
       "      <td>1809</td>\n",
       "      <td>False</td>\n",
       "      <td>5</td>\n",
       "      <td>206.565050</td>\n",
       "      <td>22</td>\n",
       "      <td>1.280959</td>\n",
       "      <td>6</td>\n",
       "      <td>121</td>\n",
       "      <td>False</td>\n",
       "      <td>0</td>\n",
       "    </tr>\n",
       "    <tr>\n",
       "      <th>18</th>\n",
       "      <td>403</td>\n",
       "      <td>1814</td>\n",
       "      <td>False</td>\n",
       "      <td>5</td>\n",
       "      <td>189.462330</td>\n",
       "      <td>28</td>\n",
       "      <td>1.742046</td>\n",
       "      <td>6</td>\n",
       "      <td>121</td>\n",
       "      <td>False</td>\n",
       "      <td>0</td>\n",
       "    </tr>\n",
       "    <tr>\n",
       "      <th>19</th>\n",
       "      <td>403</td>\n",
       "      <td>1819</td>\n",
       "      <td>False</td>\n",
       "      <td>5</td>\n",
       "      <td>213.690060</td>\n",
       "      <td>33</td>\n",
       "      <td>1.032803</td>\n",
       "      <td>6</td>\n",
       "      <td>121</td>\n",
       "      <td>False</td>\n",
       "      <td>0</td>\n",
       "    </tr>\n",
       "    <tr>\n",
       "      <th>...</th>\n",
       "      <td>...</td>\n",
       "      <td>...</td>\n",
       "      <td>...</td>\n",
       "      <td>...</td>\n",
       "      <td>...</td>\n",
       "      <td>...</td>\n",
       "      <td>...</td>\n",
       "      <td>...</td>\n",
       "      <td>...</td>\n",
       "      <td>...</td>\n",
       "      <td>...</td>\n",
       "    </tr>\n",
       "    <tr>\n",
       "      <th>160796</th>\n",
       "      <td>3752</td>\n",
       "      <td>3912</td>\n",
       "      <td>False</td>\n",
       "      <td>2</td>\n",
       "      <td>255.379120</td>\n",
       "      <td>2023</td>\n",
       "      <td>25.426160</td>\n",
       "      <td>9</td>\n",
       "      <td>59</td>\n",
       "      <td>False</td>\n",
       "      <td>0</td>\n",
       "    </tr>\n",
       "    <tr>\n",
       "      <th>160797</th>\n",
       "      <td>3754</td>\n",
       "      <td>3915</td>\n",
       "      <td>False</td>\n",
       "      <td>11</td>\n",
       "      <td>270.763900</td>\n",
       "      <td>2125</td>\n",
       "      <td>20.557720</td>\n",
       "      <td>9</td>\n",
       "      <td>59</td>\n",
       "      <td>False</td>\n",
       "      <td>0</td>\n",
       "    </tr>\n",
       "    <tr>\n",
       "      <th>160798</th>\n",
       "      <td>3762</td>\n",
       "      <td>3918</td>\n",
       "      <td>False</td>\n",
       "      <td>2</td>\n",
       "      <td>150.101100</td>\n",
       "      <td>2208</td>\n",
       "      <td>24.769114</td>\n",
       "      <td>9</td>\n",
       "      <td>59</td>\n",
       "      <td>False</td>\n",
       "      <td>0</td>\n",
       "    </tr>\n",
       "    <tr>\n",
       "      <th>160799</th>\n",
       "      <td>3758</td>\n",
       "      <td>3921</td>\n",
       "      <td>False</td>\n",
       "      <td>11</td>\n",
       "      <td>30.256437</td>\n",
       "      <td>2227</td>\n",
       "      <td>7.909161</td>\n",
       "      <td>9</td>\n",
       "      <td>59</td>\n",
       "      <td>False</td>\n",
       "      <td>0</td>\n",
       "    </tr>\n",
       "    <tr>\n",
       "      <th>160800</th>\n",
       "      <td>3748</td>\n",
       "      <td>4013</td>\n",
       "      <td>False</td>\n",
       "      <td>11</td>\n",
       "      <td>20.376434</td>\n",
       "      <td>2228</td>\n",
       "      <td>10.574348</td>\n",
       "      <td>9</td>\n",
       "      <td>67</td>\n",
       "      <td>False</td>\n",
       "      <td>0</td>\n",
       "    </tr>\n",
       "  </tbody>\n",
       "</table>\n",
       "<p>35245 rows × 11 columns</p>\n",
       "</div>"
      ],
      "text/plain": [
       "           y     x  admin  landcover  relief_aspect  relief_height  \\\n",
       "15       403  1799  False          5     213.690060             15   \n",
       "16       403  1804  False          5     213.690060             18   \n",
       "17       403  1809  False          5     206.565050             22   \n",
       "18       403  1814  False          5     189.462330             28   \n",
       "19       403  1819  False          5     213.690060             33   \n",
       "...      ...   ...    ...        ...            ...            ...   \n",
       "160796  3752  3912  False          2     255.379120           2023   \n",
       "160797  3754  3915  False         11     270.763900           2125   \n",
       "160798  3762  3918  False          2     150.101100           2208   \n",
       "160799  3758  3921  False         11      30.256437           2227   \n",
       "160800  3748  4013  False         11      20.376434           2228   \n",
       "\n",
       "        relief_slope  relief_soiltexture  sunny_days  vineyard  \\\n",
       "15          1.032803                   6         122     False   \n",
       "16          1.032803                   6         121     False   \n",
       "17          1.280959                   6         121     False   \n",
       "18          1.742046                   6         121     False   \n",
       "19          1.032803                   6         121     False   \n",
       "...              ...                 ...         ...       ...   \n",
       "160796     25.426160                   9          59     False   \n",
       "160797     20.557720                   9          59     False   \n",
       "160798     24.769114                   9          59     False   \n",
       "160799      7.909161                   9          59     False   \n",
       "160800     10.574348                   9          67     False   \n",
       "\n",
       "        water_seasonality  \n",
       "15                      0  \n",
       "16                      0  \n",
       "17                      0  \n",
       "18                      0  \n",
       "19                      0  \n",
       "...                   ...  \n",
       "160796                  0  \n",
       "160797                  0  \n",
       "160798                  0  \n",
       "160799                  0  \n",
       "160800                  0  \n",
       "\n",
       "[35245 rows x 11 columns]"
      ]
     },
     "execution_count": 116,
     "metadata": {},
     "output_type": "execute_result"
    }
   ],
   "source": [
    "data[data[\"admin\"] == False]"
   ]
  },
  {
   "cell_type": "code",
   "execution_count": null,
   "id": "d4b567b5",
   "metadata": {},
   "outputs": [],
   "source": []
  }
 ],
 "metadata": {
  "colab": {
   "provenance": []
  },
  "kernelspec": {
   "display_name": "Python 3 (ipykernel)",
   "language": "python",
   "name": "python3"
  },
  "language_info": {
   "codemirror_mode": {
    "name": "ipython",
    "version": 3
   },
   "file_extension": ".py",
   "mimetype": "text/x-python",
   "name": "python",
   "nbconvert_exporter": "python",
   "pygments_lexer": "ipython3",
   "version": "3.9.7"
  }
 },
 "nbformat": 4,
 "nbformat_minor": 5
}
