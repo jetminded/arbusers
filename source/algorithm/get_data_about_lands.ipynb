{
 "cells": [
  {
   "cell_type": "code",
   "execution_count": 1,
   "id": "9ce8a064",
   "metadata": {},
   "outputs": [],
   "source": [
    "import numpy as np\n",
    "import pandas as pd\n",
    "from PIL import Image\n",
    "import get_data"
   ]
  },
  {
   "cell_type": "code",
   "execution_count": 2,
   "id": "593f521e",
   "metadata": {},
   "outputs": [],
   "source": [
    "features_place = [\n",
    "    (\"admin\", \"data/KRA_ADMIN_100m.tif\"),\n",
    "    (\"landcover\", \"data/KRA_LANDCOVER_100m.tif\"),\n",
    "    #(\"prec\", \"data/KRA_PREC_100m.tif\"),\n",
    "    (\"relief_aspect\", \"data/KRA_RELIEF_ASPECT_100m.tif\"),\n",
    "    (\"relief_height\", \"data/KRA_RELIEF_HEIGHT_100m.tif\"),\n",
    "    (\"relief_slope\", \"data/KRA_RELIEF_SLOPE_100m.tif\"),\n",
    "    (\"relief_soiltexture\", \"data/KRA_SOILTEXTURE_100m.tif\"),\n",
    "    (\"sunny_days\", \"data/KRA_SUNNY_DAYS_APR_OCT_100m.tif\"),\n",
    "    # (\"tavg\", \"data/KRA_TAVG_100m.tif\"),\n",
    "    # (\"tmax\", \"data/KRA_TMAX_100m.tif\"),\n",
    "    # (\"tmin\", \"data/KRA_TMIN_100m.tif\"),\n",
    "    (\"vineyard\", \"data/KRA_VINEYARDS_100m.tif\"),\n",
    "    (\"water_seasonality\", \"data/KRA_WATER_SEASONALYTY_100m.tif\")\n",
    "]"
   ]
  },
  {
   "cell_type": "code",
   "execution_count": 3,
   "id": "54c88956",
   "metadata": {},
   "outputs": [],
   "source": [
    "coords = get_data.correct_indexes()"
   ]
  },
  {
   "cell_type": "code",
   "execution_count": 4,
   "id": "27722f3d",
   "metadata": {},
   "outputs": [
    {
     "data": {
      "text/plain": [
       "14642963"
      ]
     },
     "execution_count": 4,
     "metadata": {},
     "output_type": "execute_result"
    }
   ],
   "source": [
    "len(coords)"
   ]
  },
  {
   "cell_type": "code",
   "execution_count": 5,
   "id": "f7eed593",
   "metadata": {},
   "outputs": [],
   "source": [
    "x, y = coords.T"
   ]
  },
  {
   "cell_type": "code",
   "execution_count": 6,
   "id": "fe2f5d04",
   "metadata": {},
   "outputs": [],
   "source": [
    "N = 401"
   ]
  },
  {
   "cell_type": "code",
   "execution_count": 7,
   "id": "afae3c04",
   "metadata": {},
   "outputs": [],
   "source": [
    "x_grid = np.quantile(x, np.linspace(0.1, 0.9, N))"
   ]
  },
  {
   "cell_type": "code",
   "execution_count": 8,
   "id": "0edaac8a",
   "metadata": {},
   "outputs": [],
   "source": [
    "centroids = []\n",
    "for i in range(1, len(x_grid)):\n",
    "    tmp = coords[(x >= x_grid[i - 1]) & (x < x_grid[i])]\n",
    "    y_tmp = tmp.T[1]\n",
    "    y_grid = np.quantile(y_tmp, np.linspace(0.1, 0.9, N))\n",
    "    for j in range(1, len(y_grid)):\n",
    "        x_p, y_p = np.mean(tmp[y_tmp[(y_tmp >= y_grid[j - 1]) & (y_tmp < y_grid[j])]], axis=0)\n",
    "        centroids.append([int(x_p), int(y_p)])\n",
    "    x_p, y_p = np.mean(tmp[y_tmp[(y_tmp >= y_grid[-1])]], axis=0)\n",
    "    centroids.append([int(x_p), int(y_p)])\n",
    "\n",
    "tmp = coords[(x >= x_grid[-1])]\n",
    "y_tmp = tmp.T[1]\n",
    "y_grid = np.quantile(y_tmp, np.linspace(0.1, 0.9, N))\n",
    "for j in range(1, len(y_grid)):\n",
    "    x_p, y_p = np.mean(tmp[y_tmp[(y_tmp >= y_grid[j - 1]) & (y_tmp < y_grid[j])]], axis=0)\n",
    "    centroids.append([int(x_p), int(y_p)])\n",
    "x_p, y_p = np.mean(tmp[y_tmp[(y_tmp >= y_grid[-1])]], axis=0)\n",
    "centroids.append([int(x_p), int(y_p)])"
   ]
  },
  {
   "cell_type": "code",
   "execution_count": 9,
   "id": "177a6d03",
   "metadata": {},
   "outputs": [],
   "source": [
    "centroids = np.array(centroids).T"
   ]
  },
  {
   "cell_type": "code",
   "execution_count": 10,
   "id": "7e00c253",
   "metadata": {},
   "outputs": [],
   "source": [
    "tmp = get_data.get_data_df(centroids, features_place)"
   ]
  },
  {
   "cell_type": "code",
   "execution_count": 11,
   "id": "9de77246",
   "metadata": {},
   "outputs": [],
   "source": [
    "x_plot = tmp[\"x\"]\n",
    "y_plot = tmp[\"y\"]"
   ]
  },
  {
   "cell_type": "code",
   "execution_count": 12,
   "id": "7d534ce4",
   "metadata": {},
   "outputs": [],
   "source": [
    "import matplotlib.pyplot as plt"
   ]
  },
  {
   "cell_type": "code",
   "execution_count": 13,
   "id": "ef15209e",
   "metadata": {},
   "outputs": [
    {
     "data": {
      "text/plain": [
       "<matplotlib.collections.PathCollection at 0x7f32145915b0>"
      ]
     },
     "execution_count": 13,
     "metadata": {},
     "output_type": "execute_result"
    },
    {
     "data": {
      "image/png": "[encoded data removed]",
      "text/plain": [
       "<Figure size 432x288 with 1 Axes>"
      ]
     },
     "metadata": {
      "needs_background": "light"
     },
     "output_type": "display_data"
    }
   ],
   "source": [
    "plt.scatter(x_plot, y_plot)"
   ]
  },
  {
   "cell_type": "code",
   "execution_count": 11,
   "id": "fd881241",
   "metadata": {},
   "outputs": [
    {
     "data": {
      "text/html": [
       "<div>\n",
       "<style scoped>\n",
       "    .dataframe tbody tr th:only-of-type {\n",
       "        vertical-align: middle;\n",
       "    }\n",
       "\n",
       "    .dataframe tbody tr th {\n",
       "        vertical-align: top;\n",
       "    }\n",
       "\n",
       "    .dataframe thead th {\n",
       "        text-align: right;\n",
       "    }\n",
       "</style>\n",
       "<table border=\"1\" class=\"dataframe\">\n",
       "  <thead>\n",
       "    <tr style=\"text-align: right;\">\n",
       "      <th></th>\n",
       "      <th>x</th>\n",
       "      <th>y</th>\n",
       "      <th>admin</th>\n",
       "      <th>landcover</th>\n",
       "      <th>relief_aspect</th>\n",
       "      <th>relief_height</th>\n",
       "      <th>relief_slope</th>\n",
       "      <th>relief_soiltexture</th>\n",
       "      <th>sunny_days</th>\n",
       "      <th>vineyard</th>\n",
       "      <th>water_seasonality</th>\n",
       "    </tr>\n",
       "  </thead>\n",
       "  <tbody>\n",
       "    <tr>\n",
       "      <th>0</th>\n",
       "      <td>497</td>\n",
       "      <td>651</td>\n",
       "      <td>False</td>\n",
       "      <td>0</td>\n",
       "      <td>-99999.000000</td>\n",
       "      <td>0</td>\n",
       "      <td>0.000000</td>\n",
       "      <td>0</td>\n",
       "      <td>147</td>\n",
       "      <td>False</td>\n",
       "      <td>12</td>\n",
       "    </tr>\n",
       "    <tr>\n",
       "      <th>1</th>\n",
       "      <td>497</td>\n",
       "      <td>658</td>\n",
       "      <td>False</td>\n",
       "      <td>0</td>\n",
       "      <td>-99999.000000</td>\n",
       "      <td>0</td>\n",
       "      <td>0.000000</td>\n",
       "      <td>0</td>\n",
       "      <td>147</td>\n",
       "      <td>False</td>\n",
       "      <td>12</td>\n",
       "    </tr>\n",
       "    <tr>\n",
       "      <th>2</th>\n",
       "      <td>497</td>\n",
       "      <td>666</td>\n",
       "      <td>False</td>\n",
       "      <td>0</td>\n",
       "      <td>-99999.000000</td>\n",
       "      <td>0</td>\n",
       "      <td>0.000000</td>\n",
       "      <td>0</td>\n",
       "      <td>147</td>\n",
       "      <td>False</td>\n",
       "      <td>12</td>\n",
       "    </tr>\n",
       "    <tr>\n",
       "      <th>3</th>\n",
       "      <td>497</td>\n",
       "      <td>673</td>\n",
       "      <td>False</td>\n",
       "      <td>0</td>\n",
       "      <td>-99999.000000</td>\n",
       "      <td>0</td>\n",
       "      <td>0.000000</td>\n",
       "      <td>0</td>\n",
       "      <td>146</td>\n",
       "      <td>False</td>\n",
       "      <td>12</td>\n",
       "    </tr>\n",
       "    <tr>\n",
       "      <th>4</th>\n",
       "      <td>497</td>\n",
       "      <td>681</td>\n",
       "      <td>False</td>\n",
       "      <td>0</td>\n",
       "      <td>-99999.000000</td>\n",
       "      <td>0</td>\n",
       "      <td>0.000000</td>\n",
       "      <td>0</td>\n",
       "      <td>146</td>\n",
       "      <td>False</td>\n",
       "      <td>12</td>\n",
       "    </tr>\n",
       "    <tr>\n",
       "      <th>...</th>\n",
       "      <td>...</td>\n",
       "      <td>...</td>\n",
       "      <td>...</td>\n",
       "      <td>...</td>\n",
       "      <td>...</td>\n",
       "      <td>...</td>\n",
       "      <td>...</td>\n",
       "      <td>...</td>\n",
       "      <td>...</td>\n",
       "      <td>...</td>\n",
       "      <td>...</td>\n",
       "    </tr>\n",
       "    <tr>\n",
       "      <th>160796</th>\n",
       "      <td>3711</td>\n",
       "      <td>3846</td>\n",
       "      <td>False</td>\n",
       "      <td>2</td>\n",
       "      <td>196.313858</td>\n",
       "      <td>1221</td>\n",
       "      <td>23.132183</td>\n",
       "      <td>9</td>\n",
       "      <td>60</td>\n",
       "      <td>False</td>\n",
       "      <td>0</td>\n",
       "    </tr>\n",
       "    <tr>\n",
       "      <th>160797</th>\n",
       "      <td>3711</td>\n",
       "      <td>3855</td>\n",
       "      <td>False</td>\n",
       "      <td>2</td>\n",
       "      <td>163.141602</td>\n",
       "      <td>1247</td>\n",
       "      <td>19.025156</td>\n",
       "      <td>9</td>\n",
       "      <td>60</td>\n",
       "      <td>False</td>\n",
       "      <td>0</td>\n",
       "    </tr>\n",
       "    <tr>\n",
       "      <th>160798</th>\n",
       "      <td>3711</td>\n",
       "      <td>3865</td>\n",
       "      <td>False</td>\n",
       "      <td>2</td>\n",
       "      <td>347.275635</td>\n",
       "      <td>1198</td>\n",
       "      <td>9.028954</td>\n",
       "      <td>9</td>\n",
       "      <td>61</td>\n",
       "      <td>False</td>\n",
       "      <td>0</td>\n",
       "    </tr>\n",
       "    <tr>\n",
       "      <th>160799</th>\n",
       "      <td>3711</td>\n",
       "      <td>3874</td>\n",
       "      <td>False</td>\n",
       "      <td>2</td>\n",
       "      <td>347.106262</td>\n",
       "      <td>1258</td>\n",
       "      <td>23.061136</td>\n",
       "      <td>9</td>\n",
       "      <td>61</td>\n",
       "      <td>False</td>\n",
       "      <td>0</td>\n",
       "    </tr>\n",
       "    <tr>\n",
       "      <th>160800</th>\n",
       "      <td>3711</td>\n",
       "      <td>2025</td>\n",
       "      <td>False</td>\n",
       "      <td>0</td>\n",
       "      <td>-99999.000000</td>\n",
       "      <td>0</td>\n",
       "      <td>0.000000</td>\n",
       "      <td>0</td>\n",
       "      <td>155</td>\n",
       "      <td>False</td>\n",
       "      <td>12</td>\n",
       "    </tr>\n",
       "  </tbody>\n",
       "</table>\n",
       "<p>160801 rows × 11 columns</p>\n",
       "</div>"
      ],
      "text/plain": [
       "           x     y  admin  landcover  relief_aspect  relief_height  \\\n",
       "0        497   651  False          0  -99999.000000              0   \n",
       "1        497   658  False          0  -99999.000000              0   \n",
       "2        497   666  False          0  -99999.000000              0   \n",
       "3        497   673  False          0  -99999.000000              0   \n",
       "4        497   681  False          0  -99999.000000              0   \n",
       "...      ...   ...    ...        ...            ...            ...   \n",
       "160796  3711  3846  False          2     196.313858           1221   \n",
       "160797  3711  3855  False          2     163.141602           1247   \n",
       "160798  3711  3865  False          2     347.275635           1198   \n",
       "160799  3711  3874  False          2     347.106262           1258   \n",
       "160800  3711  2025  False          0  -99999.000000              0   \n",
       "\n",
       "        relief_slope  relief_soiltexture  sunny_days  vineyard  \\\n",
       "0           0.000000                   0         147     False   \n",
       "1           0.000000                   0         147     False   \n",
       "2           0.000000                   0         147     False   \n",
       "3           0.000000                   0         146     False   \n",
       "4           0.000000                   0         146     False   \n",
       "...              ...                 ...         ...       ...   \n",
       "160796     23.132183                   9          60     False   \n",
       "160797     19.025156                   9          60     False   \n",
       "160798      9.028954                   9          61     False   \n",
       "160799     23.061136                   9          61     False   \n",
       "160800      0.000000                   0         155     False   \n",
       "\n",
       "        water_seasonality  \n",
       "0                      12  \n",
       "1                      12  \n",
       "2                      12  \n",
       "3                      12  \n",
       "4                      12  \n",
       "...                   ...  \n",
       "160796                  0  \n",
       "160797                  0  \n",
       "160798                  0  \n",
       "160799                  0  \n",
       "160800                 12  \n",
       "\n",
       "[160801 rows x 11 columns]"
      ]
     },
     "execution_count": 11,
     "metadata": {},
     "output_type": "execute_result"
    }
   ],
   "source": [
    "tmp"
   ]
  },
  {
   "cell_type": "code",
   "execution_count": 12,
   "id": "3ba28575",
   "metadata": {},
   "outputs": [],
   "source": [
    "tmp.to_csv(\"lands.csv\", index=False)"
   ]
  },
  {
   "cell_type": "code",
   "execution_count": null,
   "id": "640e4130",
   "metadata": {},
   "outputs": [],
   "source": []
  }
 ],
 "metadata": {
  "kernelspec": {
   "display_name": "Python 3 (ipykernel)",
   "language": "python",
   "name": "python3"
  },
  "language_info": {
   "codemirror_mode": {
    "name": "ipython",
    "version": 3
   },
   "file_extension": ".py",
   "mimetype": "text/x-python",
   "name": "python",
   "nbconvert_exporter": "python",
   "pygments_lexer": "ipython3",
   "version": "3.9.7"
  }
 },
 "nbformat": 4,
 "nbformat_minor": 5
}
