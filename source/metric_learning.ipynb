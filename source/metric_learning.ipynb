{
 "cells": [
  {
   "cell_type": "code",
   "execution_count": 34,
   "id": "f5115b40",
   "metadata": {},
   "outputs": [],
   "source": [
    "import numpy as np\n",
    "import pandas as pd\n",
    "from sklearn.cluster import KMeans"
   ]
  },
  {
   "cell_type": "code",
   "execution_count": 35,
   "id": "058c8d7e",
   "metadata": {},
   "outputs": [],
   "source": [
    "data = pd.read_csv(\"data.csv\")"
   ]
  },
  {
   "cell_type": "code",
   "execution_count": 36,
   "id": "a67a574c",
   "metadata": {},
   "outputs": [],
   "source": [
    "def create_labels(data, k=216):\n",
    "    model = KMeans(n_clusters=k)\n",
    "    labels = model.fit_predict(data[[\"x\", \"y\"]])\n",
    "    return labels"
   ]
  },
  {
   "cell_type": "code",
   "execution_count": 37,
   "id": "1da3d21b",
   "metadata": {},
   "outputs": [],
   "source": [
    "target = create_labels(data)"
   ]
  },
  {
   "cell_type": "code",
   "execution_count": 38,
   "id": "60ad0fd6",
   "metadata": {},
   "outputs": [],
   "source": [
    "from sklearn.utils import shuffle"
   ]
  },
  {
   "cell_type": "code",
   "execution_count": 39,
   "id": "b31e832e",
   "metadata": {},
   "outputs": [],
   "source": [
    "data[\"target\"] = target\n",
    "data = shuffle(data)"
   ]
  },
  {
   "cell_type": "code",
   "execution_count": 40,
   "id": "eb8ca2f4",
   "metadata": {},
   "outputs": [
    {
     "data": {
      "text/html": [
       "<div>\n",
       "<style scoped>\n",
       "    .dataframe tbody tr th:only-of-type {\n",
       "        vertical-align: middle;\n",
       "    }\n",
       "\n",
       "    .dataframe tbody tr th {\n",
       "        vertical-align: top;\n",
       "    }\n",
       "\n",
       "    .dataframe thead th {\n",
       "        text-align: right;\n",
       "    }\n",
       "</style>\n",
       "<table border=\"1\" class=\"dataframe\">\n",
       "  <thead>\n",
       "    <tr style=\"text-align: right;\">\n",
       "      <th></th>\n",
       "      <th>admin</th>\n",
       "      <th>landcover</th>\n",
       "      <th>relief_aspect</th>\n",
       "      <th>relief_height</th>\n",
       "      <th>relief_slope</th>\n",
       "      <th>relief_soiltexture</th>\n",
       "      <th>sunny_days</th>\n",
       "      <th>water_seasonality</th>\n",
       "    </tr>\n",
       "  </thead>\n",
       "  <tbody>\n",
       "    <tr>\n",
       "      <th>521</th>\n",
       "      <td>True</td>\n",
       "      <td>5</td>\n",
       "      <td>-99999.000000</td>\n",
       "      <td>19</td>\n",
       "      <td>0.000000</td>\n",
       "      <td>3</td>\n",
       "      <td>130</td>\n",
       "      <td>0</td>\n",
       "    </tr>\n",
       "    <tr>\n",
       "      <th>188</th>\n",
       "      <td>True</td>\n",
       "      <td>5</td>\n",
       "      <td>180.000000</td>\n",
       "      <td>12</td>\n",
       "      <td>0.286477</td>\n",
       "      <td>6</td>\n",
       "      <td>139</td>\n",
       "      <td>0</td>\n",
       "    </tr>\n",
       "    <tr>\n",
       "      <th>25872</th>\n",
       "      <td>True</td>\n",
       "      <td>5</td>\n",
       "      <td>198.434950</td>\n",
       "      <td>54</td>\n",
       "      <td>0.905850</td>\n",
       "      <td>3</td>\n",
       "      <td>150</td>\n",
       "      <td>0</td>\n",
       "    </tr>\n",
       "    <tr>\n",
       "      <th>11887</th>\n",
       "      <td>True</td>\n",
       "      <td>5</td>\n",
       "      <td>21.801409</td>\n",
       "      <td>45</td>\n",
       "      <td>1.542363</td>\n",
       "      <td>1</td>\n",
       "      <td>157</td>\n",
       "      <td>0</td>\n",
       "    </tr>\n",
       "    <tr>\n",
       "      <th>30370</th>\n",
       "      <td>True</td>\n",
       "      <td>11</td>\n",
       "      <td>194.036240</td>\n",
       "      <td>23</td>\n",
       "      <td>1.181015</td>\n",
       "      <td>6</td>\n",
       "      <td>141</td>\n",
       "      <td>0</td>\n",
       "    </tr>\n",
       "  </tbody>\n",
       "</table>\n",
       "</div>"
      ],
      "text/plain": [
       "       admin  landcover  relief_aspect  relief_height  relief_slope  \\\n",
       "521     True          5  -99999.000000             19      0.000000   \n",
       "188     True          5     180.000000             12      0.286477   \n",
       "25872   True          5     198.434950             54      0.905850   \n",
       "11887   True          5      21.801409             45      1.542363   \n",
       "30370   True         11     194.036240             23      1.181015   \n",
       "\n",
       "       relief_soiltexture  sunny_days  water_seasonality  \n",
       "521                     3         130                  0  \n",
       "188                     6         139                  0  \n",
       "25872                   3         150                  0  \n",
       "11887                   1         157                  0  \n",
       "30370                   6         141                  0  "
      ]
     },
     "execution_count": 40,
     "metadata": {},
     "output_type": "execute_result"
    }
   ],
   "source": [
    "y = data[\"target\"]\n",
    "X = data.drop([\"x\", \"y\", \"vineyard\", \"target\"], axis=1)\n",
    "X.head()"
   ]
  },
  {
   "cell_type": "code",
   "execution_count": 41,
   "id": "74b564f9",
   "metadata": {},
   "outputs": [],
   "source": [
    "from sklearn.neighbors import KNeighborsClassifier\n",
    "from sklearn.linear_model import LogisticRegression\n",
    "from sklearn.metrics import accuracy_score\n",
    "from sklearn.model_selection import train_test_split"
   ]
  },
  {
   "cell_type": "code",
   "execution_count": 42,
   "id": "7d004d3b",
   "metadata": {},
   "outputs": [],
   "source": [
    "X_train, X_test, y_train, y_test = train_test_split(X, y)"
   ]
  },
  {
   "cell_type": "code",
   "execution_count": 50,
   "id": "fe247140",
   "metadata": {
    "scrolled": true
   },
   "outputs": [],
   "source": [
    "results = []\n",
    "for k in range(1, 1000):\n",
    "    model = KNeighborsClassifier(n_neighbors=k)\n",
    "    model.fit(X_train, y_train)\n",
    "    preds = model.predict(X_test)\n",
    "    results.append(accuracy_score(preds, y_test))"
   ]
  },
  {
   "cell_type": "code",
   "execution_count": 52,
   "id": "257147ef",
   "metadata": {},
   "outputs": [
    {
     "data": {
      "text/plain": [
       "0"
      ]
     },
     "execution_count": 52,
     "metadata": {},
     "output_type": "execute_result"
    }
   ],
   "source": [
    "np.argmax(results)"
   ]
  },
  {
   "cell_type": "code",
   "execution_count": 54,
   "id": "1c32e572",
   "metadata": {},
   "outputs": [
    {
     "data": {
      "text/plain": [
       "0.5118579296392042"
      ]
     },
     "execution_count": 54,
     "metadata": {},
     "output_type": "execute_result"
    }
   ],
   "source": [
    "model = KNeighborsClassifier(n_neighbors=1)\n",
    "model.fit(X_train, y_train)\n",
    "preds = model.predict(X_test)\n",
    "accuracy_score(preds, y_test)"
   ]
  },
  {
   "cell_type": "code",
   "execution_count": null,
   "id": "763500c9",
   "metadata": {},
   "outputs": [],
   "source": []
  }
 ],
 "metadata": {
  "kernelspec": {
   "display_name": "Python 3 (ipykernel)",
   "language": "python",
   "name": "python3"
  },
  "language_info": {
   "codemirror_mode": {
    "name": "ipython",
    "version": 3
   },
   "file_extension": ".py",
   "mimetype": "text/x-python",
   "name": "python",
   "nbconvert_exporter": "python",
   "pygments_lexer": "ipython3",
   "version": "3.9.7"
  }
 },
 "nbformat": 4,
 "nbformat_minor": 5
}
