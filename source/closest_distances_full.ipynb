{
 "cells": [
  {
   "cell_type": "code",
   "execution_count": 66,
   "id": "156df409",
   "metadata": {
    "id": "156df409"
   },
   "outputs": [],
   "source": [
    "import numpy as np\n",
    "import pandas as pd\n",
    "import get_data\n",
    "from scipy.spatial.distance import cdist"
   ]
  },
  {
   "cell_type": "code",
   "execution_count": null,
   "id": "8d008399",
   "metadata": {
    "id": "8d008399"
   },
   "outputs": [],
   "source": []
  },
  {
   "cell_type": "code",
   "execution_count": 110,
   "id": "7b7b1844",
   "metadata": {
    "id": "7b7b1844"
   },
   "outputs": [],
   "source": [
    "def get_top_vineyard(desired, lands, k=3):\n",
    "    desired = desired.drop([\"x\", \"y\"], axis=0)\n",
    "    lands = lands.drop([\"x\", \"y\"], axis=1)\n",
    "    desired = np.array([np.array(desired, dtype=float)])\n",
    "    lands = np.array(lands, dtype=float)\n",
    "    distances = cdist(desired, lands)[0]\n",
    "    args = np.argpartition(distances, k)[:k]\n",
    "    closest_lands = lands[args]\n",
    "    distances = cdist(desired, closest_lands)[0]\n",
    "    return args[np.argsort(distances)]"
   ]
  },
  {
   "cell_type": "code",
   "execution_count": 68,
   "id": "1a545a8c",
   "metadata": {
    "id": "1a545a8c"
   },
   "outputs": [],
   "source": [
    "vine = pd.read_csv(\"data.csv\")"
   ]
  },
  {
   "cell_type": "code",
   "execution_count": 69,
   "id": "4cd4362d",
   "metadata": {
    "id": "4cd4362d"
   },
   "outputs": [],
   "source": [
    "lands = pd.read_csv(\"lands.csv\")"
   ]
  },
  {
   "cell_type": "code",
   "execution_count": 70,
   "id": "gHU5fgT2cjNZ",
   "metadata": {
    "colab": {
     "base_uri": "https://localhost:8080/"
    },
    "id": "gHU5fgT2cjNZ",
    "outputId": "3f456cdb-8b5c-47e7-f8b8-7e8b2cc8c9f9"
   },
   "outputs": [
    {
     "data": {
      "text/plain": [
       "y                          403\n",
       "x                         1721\n",
       "admin                     True\n",
       "landcover                   11\n",
       "relief_aspect            360.0\n",
       "relief_height                2\n",
       "relief_slope          0.286477\n",
       "relief_soiltexture           6\n",
       "sunny_days                 124\n",
       "vineyard                 False\n",
       "water_seasonality            0\n",
       "Name: 0, dtype: object"
      ]
     },
     "execution_count": 70,
     "metadata": {},
     "output_type": "execute_result"
    }
   ],
   "source": [
    "lands.iloc[0]"
   ]
  },
  {
   "cell_type": "code",
   "execution_count": 71,
   "id": "9de60d3a",
   "metadata": {
    "colab": {
     "base_uri": "https://localhost:8080/"
    },
    "id": "9de60d3a",
    "outputId": "18845931-c129-4ef1-cdc6-4aa3181143b7"
   },
   "outputs": [
    {
     "data": {
      "text/plain": [
       "array([1.9700000e+02, 2.4450000e+03, 0.0000000e+00, 7.0000000e+00,\n",
       "       3.6000000e+02, 1.7000000e+01, 1.4320962e+00, 3.0000000e+00,\n",
       "       1.1100000e+02, 1.0000000e+00, 0.0000000e+00])"
      ]
     },
     "execution_count": 71,
     "metadata": {},
     "output_type": "execute_result"
    }
   ],
   "source": [
    "np.array(vine.iloc[0], dtype=float)"
   ]
  },
  {
   "cell_type": "code",
   "execution_count": 72,
   "id": "9fab479d",
   "metadata": {
    "colab": {
     "base_uri": "https://localhost:8080/"
    },
    "id": "9fab479d",
    "outputId": "eba37bc4-f2a1-44bc-a313-32b41631ed70"
   },
   "outputs": [
    {
     "data": {
      "text/plain": [
       "array([1, 0, 2])"
      ]
     },
     "execution_count": 72,
     "metadata": {},
     "output_type": "execute_result"
    }
   ],
   "source": [
    "get_top_vineyard(vine.iloc[0], lands)"
   ]
  },
  {
   "cell_type": "code",
   "execution_count": 73,
   "id": "c74f2a54",
   "metadata": {},
   "outputs": [],
   "source": [
    "areas = pd.read_csv(\"land_area.csv\")"
   ]
  },
  {
   "cell_type": "code",
   "execution_count": 74,
   "id": "2171674c",
   "metadata": {},
   "outputs": [
    {
     "data": {
      "text/html": [
       "<div>\n",
       "<style scoped>\n",
       "    .dataframe tbody tr th:only-of-type {\n",
       "        vertical-align: middle;\n",
       "    }\n",
       "\n",
       "    .dataframe tbody tr th {\n",
       "        vertical-align: top;\n",
       "    }\n",
       "\n",
       "    .dataframe thead th {\n",
       "        text-align: right;\n",
       "    }\n",
       "</style>\n",
       "<table border=\"1\" class=\"dataframe\">\n",
       "  <thead>\n",
       "    <tr style=\"text-align: right;\">\n",
       "      <th></th>\n",
       "      <th>x</th>\n",
       "      <th>y</th>\n",
       "      <th>x_left</th>\n",
       "      <th>x_right</th>\n",
       "      <th>y_top</th>\n",
       "      <th>y_bottom</th>\n",
       "    </tr>\n",
       "  </thead>\n",
       "  <tbody>\n",
       "    <tr>\n",
       "      <th>0</th>\n",
       "      <td>1721</td>\n",
       "      <td>403</td>\n",
       "      <td>1719</td>\n",
       "      <td>1723</td>\n",
       "      <td>400</td>\n",
       "      <td>407</td>\n",
       "    </tr>\n",
       "    <tr>\n",
       "      <th>1</th>\n",
       "      <td>1726</td>\n",
       "      <td>403</td>\n",
       "      <td>1724</td>\n",
       "      <td>1729</td>\n",
       "      <td>400</td>\n",
       "      <td>407</td>\n",
       "    </tr>\n",
       "    <tr>\n",
       "      <th>2</th>\n",
       "      <td>1732</td>\n",
       "      <td>403</td>\n",
       "      <td>1730</td>\n",
       "      <td>1734</td>\n",
       "      <td>400</td>\n",
       "      <td>407</td>\n",
       "    </tr>\n",
       "    <tr>\n",
       "      <th>3</th>\n",
       "      <td>1737</td>\n",
       "      <td>403</td>\n",
       "      <td>1735</td>\n",
       "      <td>1739</td>\n",
       "      <td>400</td>\n",
       "      <td>407</td>\n",
       "    </tr>\n",
       "    <tr>\n",
       "      <th>4</th>\n",
       "      <td>1742</td>\n",
       "      <td>403</td>\n",
       "      <td>1740</td>\n",
       "      <td>1744</td>\n",
       "      <td>400</td>\n",
       "      <td>407</td>\n",
       "    </tr>\n",
       "  </tbody>\n",
       "</table>\n",
       "</div>"
      ],
      "text/plain": [
       "      x    y  x_left  x_right  y_top  y_bottom\n",
       "0  1721  403    1719     1723    400       407\n",
       "1  1726  403    1724     1729    400       407\n",
       "2  1732  403    1730     1734    400       407\n",
       "3  1737  403    1735     1739    400       407\n",
       "4  1742  403    1740     1744    400       407"
      ]
     },
     "execution_count": 74,
     "metadata": {},
     "output_type": "execute_result"
    }
   ],
   "source": [
    "areas.head()"
   ]
  },
  {
   "cell_type": "code",
   "execution_count": 100,
   "id": "385ee8ce",
   "metadata": {
    "id": "385ee8ce"
   },
   "outputs": [],
   "source": [
    "def find_closest(wineyards_y, wineyards_x, k):\n",
    "    wineyards = pd.read_csv(\"data.csv\")\n",
    "    lands = pd.read_csv(\"lands.csv\")\n",
    "    desired_wineyards = pd.DataFrame(columns=lands.columns)\n",
    "    for i in range(len(wineyards_x)):\n",
    "        s = wineyards[(wineyards.x == wineyards_x[i]) & (wineyards.y == wineyards_y[i])]\n",
    "        desired_wineyards = desired_wineyards.append(s)\n",
    "    des = desired_wineyards.mean()\n",
    "    # print(des)\n",
    "    needed_indices = get_top_vineyard(des, lands, k)\n",
    "    areas = pd.read_csv(\"land_area.csv\")\n",
    "    ans = {\n",
    "        \"x_center\": [],\n",
    "        \"y_center\": [],\n",
    "        \"x_left\": [],\n",
    "        \"x_right\": [],\n",
    "        \"y_top\": [],\n",
    "        \"y_bottom\": [],\n",
    "    }\n",
    "    for i in range(k):\n",
    "        area = areas[(areas.x == lands.iloc[needed_indices[i]].x) & (areas.y == lands.iloc[needed_indices[i]].y)]\n",
    "        ans[\"x_center\"].append(int(area.x))\n",
    "        ans[\"y_center\"].append(int(area.y))\n",
    "        ans[\"x_left\"].append(int(area.x_left))\n",
    "        ans[\"x_right\"].append(int(area.x_right))\n",
    "        ans[\"y_top\"].append(int(area.y_top))\n",
    "        ans[\"y_bottom\"].append(int(area.y_bottom))\n",
    "    return ans"
   ]
  },
  {
   "cell_type": "code",
   "execution_count": 111,
   "id": "b847ca80",
   "metadata": {},
   "outputs": [
    {
     "data": {
      "text/plain": [
       "{'x_center': [743, 829, 765, 935, 822],\n",
       " 'y_center': [2034, 2155, 2040, 2188, 2168],\n",
       " 'x_left': [740, 826, 762, 932, 819],\n",
       " 'x_right': [746, 832, 768, 938, 825],\n",
       " 'y_top': [2032, 2152, 2038, 2186, 2166],\n",
       " 'y_bottom': [2037, 2158, 2043, 2191, 2171]}"
      ]
     },
     "execution_count": 111,
     "metadata": {},
     "output_type": "execute_result"
    }
   ],
   "source": [
    "find_closest([625], [2310], 5)"
   ]
  },
  {
   "cell_type": "code",
   "execution_count": 85,
   "id": "1f345830",
   "metadata": {},
   "outputs": [],
   "source": [
    "data = pd.read_csv(\"data.csv\")"
   ]
  },
  {
   "cell_type": "code",
   "execution_count": 105,
   "id": "d9da8753",
   "metadata": {},
   "outputs": [
    {
     "name": "stdout",
     "output_type": "stream",
     "text": [
      "[nan nan nan ... nan nan nan]\n"
     ]
    },
    {
     "data": {
      "text/plain": [
       "{'x_center': [1721, 1726, 1732, 1737, 1742],\n",
       " 'y_center': [403, 403, 403, 403, 403],\n",
       " 'x_left': [1719, 1724, 1730, 1735, 1740],\n",
       " 'x_right': [1723, 1729, 1734, 1739, 1744],\n",
       " 'y_top': [400, 400, 400, 400, 400],\n",
       " 'y_bottom': [407, 407, 407, 407, 407]}"
      ]
     },
     "execution_count": 105,
     "metadata": {},
     "output_type": "execute_result"
    }
   ],
   "source": [
    "find_closest([1200], [2310], 5)"
   ]
  },
  {
   "cell_type": "code",
   "execution_count": 112,
   "id": "c891b0f3",
   "metadata": {},
   "outputs": [
    {
     "data": {
      "text/plain": [
       "{'x_center': [675, 720, 1296, 1297, 1278],\n",
       " 'y_center': [1986, 2107, 522, 544, 486],\n",
       " 'x_left': [672, 718, 1294, 1295, 1276],\n",
       " 'x_right': [678, 723, 1299, 1300, 1281],\n",
       " 'y_top': [1983, 2105, 519, 541, 483],\n",
       " 'y_bottom': [1988, 2110, 525, 547, 489]}"
      ]
     },
     "execution_count": 112,
     "metadata": {},
     "output_type": "execute_result"
    }
   ],
   "source": [
    "find_closest([567], [2244], 5)"
   ]
  },
  {
   "cell_type": "code",
   "execution_count": null,
   "id": "19057182",
   "metadata": {},
   "outputs": [],
   "source": []
  }
 ],
 "metadata": {
  "colab": {
   "provenance": []
  },
  "kernelspec": {
   "display_name": "Python 3 (ipykernel)",
   "language": "python",
   "name": "python3"
  },
  "language_info": {
   "codemirror_mode": {
    "name": "ipython",
    "version": 3
   },
   "file_extension": ".py",
   "mimetype": "text/x-python",
   "name": "python",
   "nbconvert_exporter": "python",
   "pygments_lexer": "ipython3",
   "version": "3.9.7"
  }
 },
 "nbformat": 4,
 "nbformat_minor": 5
}
