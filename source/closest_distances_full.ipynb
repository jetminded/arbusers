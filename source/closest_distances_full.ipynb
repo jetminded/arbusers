{
  "cells": [
    {
      "cell_type": "code",
      "execution_count": 2,
      "id": "156df409",
      "metadata": {
        "id": "156df409"
      },
      "outputs": [],
      "source": [
        "import numpy as np\n",
        "import pandas as pd\n",
        "import get_data\n",
        "from scipy.spatial.distance import cdist"
      ]
    },
    {
      "cell_type": "code",
      "execution_count": 2,
      "id": "8d008399",
      "metadata": {
        "id": "8d008399"
      },
      "outputs": [],
      "source": []
    },
    {
      "cell_type": "code",
      "execution_count": 3,
      "id": "7b7b1844",
      "metadata": {
        "id": "7b7b1844"
      },
      "outputs": [],
      "source": [
        "def get_top_vineyard(desired, lands, k=3):\n",
        "    desired = np.array([np.array(desired, dtype=float)])\n",
        "    lands = np.array(lands, dtype=float)\n",
        "    distances = cdist(desired, lands)[0]\n",
        "    closest_lands = lands[np.argpartition(distances, k)[:k]]\n",
        "    distances = cdist(desired, closest_lands)[0]\n",
        "    return np.argsort(distances)"
      ]
    },
    {
      "cell_type": "code",
      "execution_count": 4,
      "id": "1a545a8c",
      "metadata": {
        "id": "1a545a8c"
      },
      "outputs": [],
      "source": [
        "vine = pd.read_csv(\"data.csv\")"
      ]
    },
    {
      "cell_type": "code",
      "execution_count": 5,
      "id": "4cd4362d",
      "metadata": {
        "id": "4cd4362d"
      },
      "outputs": [],
      "source": [
        "lands = pd.read_csv(\"lands.csv\")"
      ]
    },
    {
      "cell_type": "code",
      "source": [
        "vine.iloc[0]"
      ],
      "metadata": {
        "colab": {
          "base_uri": "https://localhost:8080/"
        },
        "id": "j-UhOirDb-2-",
        "outputId": "4e921487-dfee-4ab9-f0dd-269cf536ad7e"
      },
      "id": "j-UhOirDb-2-",
      "execution_count": 6,
      "outputs": [
        {
          "output_type": "execute_result",
          "data": {
            "text/plain": [
              "x                          197\n",
              "y                         2445\n",
              "admin                    False\n",
              "landcover                    7\n",
              "relief_aspect            360.0\n",
              "relief_height               17\n",
              "relief_slope          1.432096\n",
              "relief_soiltexture           3\n",
              "sunny_days                 111\n",
              "vineyard                  True\n",
              "water_seasonality            0\n",
              "Name: 0, dtype: object"
            ]
          },
          "metadata": {},
          "execution_count": 6
        }
      ]
    },
    {
      "cell_type": "code",
      "source": [
        "lands.iloc[0]"
      ],
      "metadata": {
        "colab": {
          "base_uri": "https://localhost:8080/"
        },
        "id": "gHU5fgT2cjNZ",
        "outputId": "3f456cdb-8b5c-47e7-f8b8-7e8b2cc8c9f9"
      },
      "id": "gHU5fgT2cjNZ",
      "execution_count": 14,
      "outputs": [
        {
          "output_type": "execute_result",
          "data": {
            "text/plain": [
              "x                         497\n",
              "y                         651\n",
              "admin                   False\n",
              "landcover                   0\n",
              "relief_aspect        -99999.0\n",
              "relief_height               0\n",
              "relief_slope              0.0\n",
              "relief_soiltexture          0\n",
              "sunny_days                147\n",
              "vineyard                False\n",
              "water_seasonality          12\n",
              "Name: 0, dtype: object"
            ]
          },
          "metadata": {},
          "execution_count": 14
        }
      ]
    },
    {
      "cell_type": "code",
      "execution_count": 7,
      "id": "9de60d3a",
      "metadata": {
        "colab": {
          "base_uri": "https://localhost:8080/"
        },
        "id": "9de60d3a",
        "outputId": "18845931-c129-4ef1-cdc6-4aa3181143b7"
      },
      "outputs": [
        {
          "output_type": "execute_result",
          "data": {
            "text/plain": [
              "array([1.9700000e+02, 2.4450000e+03, 0.0000000e+00, 7.0000000e+00,\n",
              "       3.6000000e+02, 1.7000000e+01, 1.4320962e+00, 3.0000000e+00,\n",
              "       1.1100000e+02, 1.0000000e+00, 0.0000000e+00])"
            ]
          },
          "metadata": {},
          "execution_count": 7
        }
      ],
      "source": [
        "np.array(vine.iloc[0], dtype=float)"
      ]
    },
    {
      "cell_type": "code",
      "execution_count": 8,
      "id": "9fab479d",
      "metadata": {
        "colab": {
          "base_uri": "https://localhost:8080/"
        },
        "id": "9fab479d",
        "outputId": "eba37bc4-f2a1-44bc-a313-32b41631ed70"
      },
      "outputs": [
        {
          "output_type": "execute_result",
          "data": {
            "text/plain": [
              "array([1, 0, 2])"
            ]
          },
          "metadata": {},
          "execution_count": 8
        }
      ],
      "source": [
        "get_top_vineyard(vine.iloc[0], lands)"
      ]
    },
    {
      "cell_type": "code",
      "execution_count": 31,
      "id": "385ee8ce",
      "metadata": {
        "id": "385ee8ce"
      },
      "outputs": [],
      "source": [
        "def find_closest(wineyards_x, wineyards_y, k):\n",
        "  wineyards = pd.read_csv(\"data.csv\")\n",
        "  lands = pd.read_csv(\"lands.csv\")\n",
        "  desired_wineyards = pd.DataFrame(columns=lands.columns)\n",
        "  for i in range(len(wineyards_x)):\n",
        "    s = wineyards.where(wineyards.x == wineyards_x[i]).where(wineyards.y == wineyards_y[i]).iloc[0]\n",
        "    desired_wineyards = desired_wineyards.append(s)\n",
        "  # print(desired_wineyards)\n",
        "  des = desired_wineyards.mean()\n",
        "  # print(des)\n",
        "  needed_indices = get_top_vineyard(des, lands, k)\n",
        "  ans_x = []\n",
        "  ans_y = []\n",
        "  for i in range(k):\n",
        "    ans_x.append(lands.iloc[needed_indices[i]].x)\n",
        "    ans_y.append(lands.iloc[needed_indices[i]].y)\n",
        "  return ans_x, ans_y"
      ]
    },
    {
      "cell_type": "code",
      "source": [
        "x, y = find_closest([197], [2445], 5)"
      ],
      "metadata": {
        "id": "r1JFYjZFbhpn"
      },
      "id": "r1JFYjZFbhpn",
      "execution_count": 32,
      "outputs": []
    },
    {
      "cell_type": "code",
      "source": [],
      "metadata": {
        "id": "IlZRxiv9dnRP"
      },
      "id": "IlZRxiv9dnRP",
      "execution_count": null,
      "outputs": []
    }
  ],
  "metadata": {
    "kernelspec": {
      "display_name": "Python 3 (ipykernel)",
      "language": "python",
      "name": "python3"
    },
    "language_info": {
      "codemirror_mode": {
        "name": "ipython",
        "version": 3
      },
      "file_extension": ".py",
      "mimetype": "text/x-python",
      "name": "python",
      "nbconvert_exporter": "python",
      "pygments_lexer": "ipython3",
      "version": "3.9.7"
    },
    "colab": {
      "provenance": []
    }
  },
  "nbformat": 4,
  "nbformat_minor": 5
}