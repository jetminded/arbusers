{
 "cells": [
  {
   "cell_type": "code",
   "execution_count": 1,
   "id": "156df409",
   "metadata": {
    "id": "156df409"
   },
   "outputs": [],
   "source": [
    "import numpy as np\n",
    "import pandas as pd\n",
    "import get_data\n",
    "from scipy.spatial.distance import cdist"
   ]
  },
  {
   "cell_type": "code",
   "execution_count": null,
   "id": "8d008399",
   "metadata": {
    "id": "8d008399"
   },
   "outputs": [],
   "source": []
  },
  {
   "cell_type": "code",
   "execution_count": 33,
   "id": "7b7b1844",
   "metadata": {
    "id": "7b7b1844"
   },
   "outputs": [],
   "source": [
    "def get_top_vineyard(desired, lands, k=3):\n",
    "    desired = desired.drop([\"x\", \"y\"], axis=0)\n",
    "    lands = lands.drop([\"x\", \"y\"], axis=1)\n",
    "    desired = np.array([np.array(desired, dtype=float)])\n",
    "    lands = np.array(lands, dtype=float)\n",
    "    distances = cdist(desired, lands)[0]\n",
    "    closest_lands = lands[np.argpartition(distances, k)[:k]]\n",
    "    distances = cdist(desired, closest_lands)[0]\n",
    "    return np.argsort(distances)"
   ]
  },
  {
   "cell_type": "code",
   "execution_count": 34,
   "id": "1a545a8c",
   "metadata": {
    "id": "1a545a8c"
   },
   "outputs": [],
   "source": [
    "vine = pd.read_csv(\"data.csv\")"
   ]
  },
  {
   "cell_type": "code",
   "execution_count": 35,
   "id": "4cd4362d",
   "metadata": {
    "id": "4cd4362d"
   },
   "outputs": [],
   "source": [
    "lands = pd.read_csv(\"lands.csv\")"
   ]
  },
  {
   "cell_type": "code",
   "execution_count": 36,
   "id": "gHU5fgT2cjNZ",
   "metadata": {
    "colab": {
     "base_uri": "https://localhost:8080/"
    },
    "id": "gHU5fgT2cjNZ",
    "outputId": "3f456cdb-8b5c-47e7-f8b8-7e8b2cc8c9f9"
   },
   "outputs": [
    {
     "data": {
      "text/plain": [
       "y                          403\n",
       "x                         1721\n",
       "admin                     True\n",
       "landcover                   11\n",
       "relief_aspect            360.0\n",
       "relief_height                2\n",
       "relief_slope          0.286477\n",
       "relief_soiltexture           6\n",
       "sunny_days                 124\n",
       "vineyard                 False\n",
       "water_seasonality            0\n",
       "Name: 0, dtype: object"
      ]
     },
     "execution_count": 36,
     "metadata": {},
     "output_type": "execute_result"
    }
   ],
   "source": [
    "lands.iloc[0]"
   ]
  },
  {
   "cell_type": "code",
   "execution_count": 37,
   "id": "9de60d3a",
   "metadata": {
    "colab": {
     "base_uri": "https://localhost:8080/"
    },
    "id": "9de60d3a",
    "outputId": "18845931-c129-4ef1-cdc6-4aa3181143b7"
   },
   "outputs": [
    {
     "data": {
      "text/plain": [
       "array([1.9700000e+02, 2.4450000e+03, 0.0000000e+00, 7.0000000e+00,\n",
       "       3.6000000e+02, 1.7000000e+01, 1.4320962e+00, 3.0000000e+00,\n",
       "       1.1100000e+02, 1.0000000e+00, 0.0000000e+00])"
      ]
     },
     "execution_count": 37,
     "metadata": {},
     "output_type": "execute_result"
    }
   ],
   "source": [
    "np.array(vine.iloc[0], dtype=float)"
   ]
  },
  {
   "cell_type": "code",
   "execution_count": 38,
   "id": "9fab479d",
   "metadata": {
    "colab": {
     "base_uri": "https://localhost:8080/"
    },
    "id": "9fab479d",
    "outputId": "eba37bc4-f2a1-44bc-a313-32b41631ed70"
   },
   "outputs": [
    {
     "data": {
      "text/plain": [
       "array([1, 0, 2])"
      ]
     },
     "execution_count": 38,
     "metadata": {},
     "output_type": "execute_result"
    }
   ],
   "source": [
    "get_top_vineyard(vine.iloc[0], lands)"
   ]
  },
  {
   "cell_type": "code",
   "execution_count": 40,
   "id": "c74f2a54",
   "metadata": {},
   "outputs": [],
   "source": [
    "areas = pd.read_csv(\"land_area.csv\")"
   ]
  },
  {
   "cell_type": "code",
   "execution_count": 41,
   "id": "2171674c",
   "metadata": {},
   "outputs": [
    {
     "data": {
      "text/html": [
       "<div>\n",
       "<style scoped>\n",
       "    .dataframe tbody tr th:only-of-type {\n",
       "        vertical-align: middle;\n",
       "    }\n",
       "\n",
       "    .dataframe tbody tr th {\n",
       "        vertical-align: top;\n",
       "    }\n",
       "\n",
       "    .dataframe thead th {\n",
       "        text-align: right;\n",
       "    }\n",
       "</style>\n",
       "<table border=\"1\" class=\"dataframe\">\n",
       "  <thead>\n",
       "    <tr style=\"text-align: right;\">\n",
       "      <th></th>\n",
       "      <th>x</th>\n",
       "      <th>y</th>\n",
       "      <th>x_left</th>\n",
       "      <th>x_right</th>\n",
       "      <th>y_top</th>\n",
       "      <th>y_bottom</th>\n",
       "    </tr>\n",
       "  </thead>\n",
       "  <tbody>\n",
       "    <tr>\n",
       "      <th>0</th>\n",
       "      <td>1721</td>\n",
       "      <td>403</td>\n",
       "      <td>1719</td>\n",
       "      <td>1723</td>\n",
       "      <td>400</td>\n",
       "      <td>407</td>\n",
       "    </tr>\n",
       "    <tr>\n",
       "      <th>1</th>\n",
       "      <td>1726</td>\n",
       "      <td>403</td>\n",
       "      <td>1724</td>\n",
       "      <td>1729</td>\n",
       "      <td>400</td>\n",
       "      <td>407</td>\n",
       "    </tr>\n",
       "    <tr>\n",
       "      <th>2</th>\n",
       "      <td>1732</td>\n",
       "      <td>403</td>\n",
       "      <td>1730</td>\n",
       "      <td>1734</td>\n",
       "      <td>400</td>\n",
       "      <td>407</td>\n",
       "    </tr>\n",
       "    <tr>\n",
       "      <th>3</th>\n",
       "      <td>1737</td>\n",
       "      <td>403</td>\n",
       "      <td>1735</td>\n",
       "      <td>1739</td>\n",
       "      <td>400</td>\n",
       "      <td>407</td>\n",
       "    </tr>\n",
       "    <tr>\n",
       "      <th>4</th>\n",
       "      <td>1742</td>\n",
       "      <td>403</td>\n",
       "      <td>1740</td>\n",
       "      <td>1744</td>\n",
       "      <td>400</td>\n",
       "      <td>407</td>\n",
       "    </tr>\n",
       "  </tbody>\n",
       "</table>\n",
       "</div>"
      ],
      "text/plain": [
       "      x    y  x_left  x_right  y_top  y_bottom\n",
       "0  1721  403    1719     1723    400       407\n",
       "1  1726  403    1724     1729    400       407\n",
       "2  1732  403    1730     1734    400       407\n",
       "3  1737  403    1735     1739    400       407\n",
       "4  1742  403    1740     1744    400       407"
      ]
     },
     "execution_count": 41,
     "metadata": {},
     "output_type": "execute_result"
    }
   ],
   "source": [
    "areas.head()"
   ]
  },
  {
   "cell_type": "code",
   "execution_count": 64,
   "id": "385ee8ce",
   "metadata": {
    "id": "385ee8ce"
   },
   "outputs": [],
   "source": [
    "def find_closest(wineyards_x, wineyards_y, k):\n",
    "    wineyards = pd.read_csv(\"data.csv\")\n",
    "    lands = pd.read_csv(\"lands.csv\")\n",
    "    desired_wineyards = pd.DataFrame(columns=lands.columns)\n",
    "    for i in range(len(wineyards_x)):\n",
    "        s = wineyards.where(wineyards.x == wineyards_x[i]).where(wineyards.y == wineyards_y[i]).iloc[0]\n",
    "        desired_wineyards = desired_wineyards.append(s)\n",
    "        \n",
    "    des = desired_wineyards.mean()\n",
    "    # print(des)\n",
    "    needed_indices = get_top_vineyard(des, lands, k)\n",
    "    areas = pd.read_csv(\"land_area.csv\")\n",
    "    ans = {\n",
    "        \"x_center\": [],\n",
    "        \"y_center\": [],\n",
    "        \"x_left\": [],\n",
    "        \"x_right\": [],\n",
    "        \"y_top\": [],\n",
    "        \"y_bottom\": [],\n",
    "    }\n",
    "    for i in range(k):\n",
    "        area = areas[(areas.x == lands.iloc[needed_indices[i]].x) & (areas.y == lands.iloc[needed_indices[i]].y)]\n",
    "        ans[\"x_center\"].append(int(area.x))\n",
    "        ans[\"y_center\"].append(int(area.y))\n",
    "        ans[\"x_left\"].append(int(area.x_left))\n",
    "        ans[\"x_right\"].append(int(area.x_right))\n",
    "        ans[\"y_top\"].append(int(area.y_top))\n",
    "        ans[\"y_bottom\"].append(int(area.y_bottom))\n",
    "    return ans"
   ]
  },
  {
   "cell_type": "code",
   "execution_count": 65,
   "id": "r1JFYjZFbhpn",
   "metadata": {
    "id": "r1JFYjZFbhpn"
   },
   "outputs": [
    {
     "data": {
      "text/plain": [
       "{'x_center': [1737, 1732, 1726, 1721, 1742],\n",
       " 'y_center': [403, 403, 403, 403, 403],\n",
       " 'x_left': [1735, 1730, 1724, 1719, 1740],\n",
       " 'x_right': [1739, 1734, 1729, 1723, 1744],\n",
       " 'y_top': [400, 400, 400, 400, 400],\n",
       " 'y_bottom': [407, 407, 407, 407, 407]}"
      ]
     },
     "execution_count": 65,
     "metadata": {},
     "output_type": "execute_result"
    }
   ],
   "source": [
    "find_closest([197], [2445], 5)"
   ]
  },
  {
   "cell_type": "code",
   "execution_count": null,
   "id": "IlZRxiv9dnRP",
   "metadata": {
    "id": "IlZRxiv9dnRP"
   },
   "outputs": [],
   "source": []
  }
 ],
 "metadata": {
  "colab": {
   "provenance": []
  },
  "kernelspec": {
   "display_name": "Python 3 (ipykernel)",
   "language": "python",
   "name": "python3"
  },
  "language_info": {
   "codemirror_mode": {
    "name": "ipython",
    "version": 3
   },
   "file_extension": ".py",
   "mimetype": "text/x-python",
   "name": "python",
   "nbconvert_exporter": "python",
   "pygments_lexer": "ipython3",
   "version": "3.9.7"
  }
 },
 "nbformat": 4,
 "nbformat_minor": 5
}
